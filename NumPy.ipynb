{
  "nbformat": 4,
  "nbformat_minor": 0,
  "metadata": {
    "colab": {
      "name": "NumPy",
      "provenance": []
    },
    "kernelspec": {
      "name": "python3",
      "display_name": "Python 3"
    }
  },
  "cells": [
    {
      "cell_type": "markdown",
      "metadata": {
        "id": "SyNGN7VMYys3",
        "colab_type": "text"
      },
      "source": [
        "#**Introducción a NumPy** "
      ]
    },
    {
      "cell_type": "markdown",
      "metadata": {
        "id": "IgrkpSvHYwtq",
        "colab_type": "text"
      },
      "source": [
        "La librería NumPy (Numerical Python) proporciona una interfaz para guardar y operar sobre arreglos de datos. Los arreglos en NumPy son como el tipo de datos list disponible en Python, pero proporcionan mucho más operaciones y eficiencia en la manipulación y el manejo de los arreglos conforme estos incrementan de tamaño.\n",
        "\n",
        "\n"
      ]
    },
    {
      "cell_type": "markdown",
      "metadata": {
        "id": "O612ugBzptrF",
        "colab_type": "text"
      },
      "source": [
        "Para importar la libreria "
      ]
    },
    {
      "cell_type": "code",
      "metadata": {
        "id": "wXvftxbEoUiE",
        "colab_type": "code",
        "colab": {}
      },
      "source": [
        "import numpy as np"
      ],
      "execution_count": 0,
      "outputs": []
    },
    {
      "cell_type": "code",
      "metadata": {
        "id": "pyYzbsN7fFAH",
        "colab_type": "code",
        "outputId": "9e438aa1-dc51-4f9d-9aff-6c70e1b1a498",
        "colab": {
          "base_uri": "https://localhost:8080/",
          "height": 34
        }
      },
      "source": [
        "np.__version__"
      ],
      "execution_count": 0,
      "outputs": [
        {
          "output_type": "execute_result",
          "data": {
            "text/plain": [
              "'1.17.4'"
            ]
          },
          "metadata": {
            "tags": []
          },
          "execution_count": 2
        }
      ]
    },
    {
      "cell_type": "code",
      "metadata": {
        "id": "KIL9F8JAoVFM",
        "colab_type": "code",
        "colab": {}
      },
      "source": [
        "np?"
      ],
      "execution_count": 0,
      "outputs": []
    },
    {
      "cell_type": "markdown",
      "metadata": {
        "id": "I21h-ufXtvYQ",
        "colab_type": "text"
      },
      "source": [
        "\n",
        "##**Tipos de Datos en Python**"
      ]
    },
    {
      "cell_type": "markdown",
      "metadata": {
        "id": "3sAoz4NouWgg",
        "colab_type": "text"
      },
      "source": [
        "Python en un lenguaje de tipado dinámico y no requiere que cada variable sea declarada explicitamente a diferencia de otros lenguajes."
      ]
    },
    {
      "cell_type": "code",
      "metadata": {
        "id": "wuMNlTQjqHax",
        "colab_type": "code",
        "colab": {}
      },
      "source": [
        "result = 0\n",
        "for i in range(100):\n",
        "    result += i"
      ],
      "execution_count": 0,
      "outputs": []
    },
    {
      "cell_type": "code",
      "metadata": {
        "id": "I1klVdBSu8x8",
        "colab_type": "code",
        "outputId": "b59f70c7-fc7f-453e-dd74-f3473b065c7a",
        "colab": {
          "base_uri": "https://localhost:8080/",
          "height": 34
        }
      },
      "source": [
        "result"
      ],
      "execution_count": 0,
      "outputs": [
        {
          "output_type": "execute_result",
          "data": {
            "text/plain": [
              "4950"
            ]
          },
          "metadata": {
            "tags": []
          },
          "execution_count": 5
        }
      ]
    },
    {
      "cell_type": "code",
      "metadata": {
        "id": "N73aQfKsvnHY",
        "colab_type": "code",
        "colab": {}
      },
      "source": [
        "x=4"
      ],
      "execution_count": 0,
      "outputs": []
    },
    {
      "cell_type": "code",
      "metadata": {
        "id": "CqNeINKMwV1q",
        "colab_type": "code",
        "colab": {}
      },
      "source": [
        "x='four'"
      ],
      "execution_count": 0,
      "outputs": []
    },
    {
      "cell_type": "markdown",
      "metadata": {
        "id": "Y5xpPBa-KHc0",
        "colab_type": "text"
      },
      "source": [
        "##**Enteros en Python**"
      ]
    },
    {
      "cell_type": "markdown",
      "metadata": {
        "id": "GZvoq2kgKblV",
        "colab_type": "text"
      },
      "source": [
        "\n",
        "\n",
        "*   La implementacion standard de Python está escrita en C\n",
        "*   Si definimos un entero en Python, x = 10000, x es un apuntador a una estructura de C\n",
        "\n",
        "\n",
        "\n",
        "\n",
        "\n"
      ]
    },
    {
      "cell_type": "markdown",
      "metadata": {
        "id": "s8DnMjBGLRp7",
        "colab_type": "text"
      },
      "source": [
        "Un entero en Python contiene cuatro partes:\n",
        "\n",
        "***Ob_refcnt,*** un contador que ayuda en la asignación y liberación de memoria.\n",
        "\n",
        "\n",
        "***Ob_type***, codifica el tipo de variable.\n",
        "\n",
        "\n",
        "***Ob_size***, especifica el tamaño.\n",
        "\n",
        "\n",
        "***Ob_digit***, contiene el valor asignado que representa la variable."
      ]
    },
    {
      "cell_type": "markdown",
      "metadata": {
        "id": "4AFfVFBVHzJN",
        "colab_type": "text"
      },
      "source": [
        "##**Listas en Python**"
      ]
    },
    {
      "cell_type": "markdown",
      "metadata": {
        "id": "r6UO2fCKIAQY",
        "colab_type": "text"
      },
      "source": [
        "Una lista es una estructura de datos que permite colectar objetos"
      ]
    },
    {
      "cell_type": "markdown",
      "metadata": {
        "id": "QkltPoizURQE",
        "colab_type": "text"
      },
      "source": [
        "*   De enteros \n",
        "\n",
        "\n"
      ]
    },
    {
      "cell_type": "code",
      "metadata": {
        "id": "49JJtqZXwipS",
        "colab_type": "code",
        "outputId": "21793d14-d233-4c51-c703-607a1608d27e",
        "colab": {
          "base_uri": "https://localhost:8080/",
          "height": 34
        }
      },
      "source": [
        "L = list(range(10))\n",
        "L"
      ],
      "execution_count": 0,
      "outputs": [
        {
          "output_type": "execute_result",
          "data": {
            "text/plain": [
              "[0, 1, 2, 3, 4, 5, 6, 7, 8, 9]"
            ]
          },
          "metadata": {
            "tags": []
          },
          "execution_count": 8
        }
      ]
    },
    {
      "cell_type": "code",
      "metadata": {
        "id": "r5sRLCKvRn3k",
        "colab_type": "code",
        "outputId": "038637a3-c7dd-424f-dad2-70d4d176320e",
        "colab": {
          "base_uri": "https://localhost:8080/",
          "height": 34
        }
      },
      "source": [
        "type(L)"
      ],
      "execution_count": 0,
      "outputs": [
        {
          "output_type": "execute_result",
          "data": {
            "text/plain": [
              "list"
            ]
          },
          "metadata": {
            "tags": []
          },
          "execution_count": 9
        }
      ]
    },
    {
      "cell_type": "code",
      "metadata": {
        "id": "nZgnDRoqR9fE",
        "colab_type": "code",
        "outputId": "1eef1ea5-7469-4953-feaa-3665dbb46bf3",
        "colab": {
          "base_uri": "https://localhost:8080/",
          "height": 34
        }
      },
      "source": [
        "type(L[2])"
      ],
      "execution_count": 0,
      "outputs": [
        {
          "output_type": "execute_result",
          "data": {
            "text/plain": [
              "int"
            ]
          },
          "metadata": {
            "tags": []
          },
          "execution_count": 10
        }
      ]
    },
    {
      "cell_type": "markdown",
      "metadata": {
        "id": "ctME7bxdUlAm",
        "colab_type": "text"
      },
      "source": [
        "\n",
        "\n",
        "*   caracteres de texto\n",
        "\n"
      ]
    },
    {
      "cell_type": "code",
      "metadata": {
        "id": "l_derxEFSMT-",
        "colab_type": "code",
        "outputId": "8888509a-75bc-4999-9b35-b892896a06cb",
        "colab": {
          "base_uri": "https://localhost:8080/",
          "height": 34
        }
      },
      "source": [
        "L2 = [str(c) for c in L]\n",
        "L2"
      ],
      "execution_count": 0,
      "outputs": [
        {
          "output_type": "execute_result",
          "data": {
            "text/plain": [
              "['0', '1', '2', '3', '4', '5', '6', '7', '8', '9']"
            ]
          },
          "metadata": {
            "tags": []
          },
          "execution_count": 11
        }
      ]
    },
    {
      "cell_type": "code",
      "metadata": {
        "id": "Af8li9ogU3Sh",
        "colab_type": "code",
        "outputId": "b4a839ce-7408-49ea-96b1-51e28b89c023",
        "colab": {
          "base_uri": "https://localhost:8080/",
          "height": 34
        }
      },
      "source": [
        "type(L2[5])"
      ],
      "execution_count": 0,
      "outputs": [
        {
          "output_type": "execute_result",
          "data": {
            "text/plain": [
              "str"
            ]
          },
          "metadata": {
            "tags": []
          },
          "execution_count": 12
        }
      ]
    },
    {
      "cell_type": "code",
      "metadata": {
        "id": "Rd5jnjEUVHdB",
        "colab_type": "code",
        "outputId": "b6ecc324-5dc7-4321-e694-1703356f74e7",
        "colab": {
          "base_uri": "https://localhost:8080/",
          "height": 34
        }
      },
      "source": [
        "type(L2)\n"
      ],
      "execution_count": 0,
      "outputs": [
        {
          "output_type": "execute_result",
          "data": {
            "text/plain": [
              "list"
            ]
          },
          "metadata": {
            "tags": []
          },
          "execution_count": 13
        }
      ]
    },
    {
      "cell_type": "code",
      "metadata": {
        "id": "HeY-4steVMWo",
        "colab_type": "code",
        "outputId": "aee003b0-3b63-4512-92bf-926de87f2870",
        "colab": {
          "base_uri": "https://localhost:8080/",
          "height": 34
        }
      },
      "source": [
        "L3 = [True, \"2\", 3.0, 4]\n",
        "[type(item) for item in L3]"
      ],
      "execution_count": 0,
      "outputs": [
        {
          "output_type": "execute_result",
          "data": {
            "text/plain": [
              "[bool, str, float, int]"
            ]
          },
          "metadata": {
            "tags": []
          },
          "execution_count": 14
        }
      ]
    },
    {
      "cell_type": "markdown",
      "metadata": {
        "id": "tjQhdx3OZaOx",
        "colab_type": "text"
      },
      "source": [
        "Esta felixibilidad tiene un costo pues cada elemento en la lista contiene es una referencia a una estructura que define el objeto de Python.\n",
        "\n",
        "\n",
        "En el caso especial que todas las entradas son del mismo tipo habrá información redundante: Sería mas eficiente usar un arreglo de tipo fijo.\n",
        "\n",
        "La lista contiene un apuntador a un bloque de apuntadores, cada uno apuntando a un objeto de Python (como el objeto entero que vimos antes)\n",
        "\n",
        "\n",
        "La lista puede tener objetos y datos de cualquier tipo\n",
        "\n",
        "\n",
        "El arreglo fijo no puede hacerlo, pero es mas eficiente para guardar y manipular los datos"
      ]
    },
    {
      "cell_type": "markdown",
      "metadata": {
        "id": "QcjjETKKaLRR",
        "colab_type": "text"
      },
      "source": [
        "##**Arreglos de Tipo Fijo en Python**"
      ]
    },
    {
      "cell_type": "markdown",
      "metadata": {
        "id": "NaJ-s0KWa32G",
        "colab_type": "text"
      },
      "source": [
        "En Python hay diferentes opciones para guardar datos en buffers de tipo fijo.\n",
        "\n",
        "\n",
        "El modulo interno array (disponible a partir de Python 3.3) sirve para crear arreglos densos de tipo uniforme:"
      ]
    },
    {
      "cell_type": "code",
      "metadata": {
        "id": "sflrvZ8vV4sO",
        "colab_type": "code",
        "outputId": "e534363b-f835-49f4-92f8-6f84fc53a3ca",
        "colab": {
          "base_uri": "https://localhost:8080/",
          "height": 34
        }
      },
      "source": [
        "import array\n",
        "L=list(range(10))\n",
        "A=array.array(\"i\",L)\n",
        "A\n"
      ],
      "execution_count": 0,
      "outputs": [
        {
          "output_type": "execute_result",
          "data": {
            "text/plain": [
              "array('i', [0, 1, 2, 3, 4, 5, 6, 7, 8, 9])"
            ]
          },
          "metadata": {
            "tags": []
          },
          "execution_count": 15
        }
      ]
    },
    {
      "cell_type": "markdown",
      "metadata": {
        "id": "Uu1afb51Q27h",
        "colab_type": "text"
      },
      "source": [
        "Aquí 'i' indica que las entradas son enteros.\n",
        "\n",
        "\n",
        "El objeto ndarray de la libreria NumPy es mucho mas útil ya que implementa operaciones sobre los datos contenidos.\n",
        "\n",
        "\n",
        "Antes de explorar estas operaciones, veamos diversas maneras de crear arreglos de NumPy"
      ]
    },
    {
      "cell_type": "markdown",
      "metadata": {
        "id": "EZMgQfXmRI2q",
        "colab_type": "text"
      },
      "source": [
        "##**Crear Arreglos a partir de Listas de Python**"
      ]
    },
    {
      "cell_type": "code",
      "metadata": {
        "id": "1FmzGSHYcUAB",
        "colab_type": "code",
        "outputId": "850fca71-8c14-4717-e9e5-ab2ec758fbdd",
        "colab": {
          "base_uri": "https://localhost:8080/",
          "height": 34
        }
      },
      "source": [
        "np.array([1, 4, 2, 5, 3])"
      ],
      "execution_count": 0,
      "outputs": [
        {
          "output_type": "execute_result",
          "data": {
            "text/plain": [
              "array([1, 4, 2, 5, 3])"
            ]
          },
          "metadata": {
            "tags": []
          },
          "execution_count": 16
        }
      ]
    },
    {
      "cell_type": "code",
      "metadata": {
        "id": "iPP68iNeR4IU",
        "colab_type": "code",
        "outputId": "de93c857-c97b-4e8b-ec08-868ca8169588",
        "colab": {
          "base_uri": "https://localhost:8080/",
          "height": 34
        }
      },
      "source": [
        "np.array([3.14, 4, 2, 3])"
      ],
      "execution_count": 0,
      "outputs": [
        {
          "output_type": "execute_result",
          "data": {
            "text/plain": [
              "array([3.14, 4.  , 2.  , 3.  ])"
            ]
          },
          "metadata": {
            "tags": []
          },
          "execution_count": 17
        }
      ]
    },
    {
      "cell_type": "code",
      "metadata": {
        "id": "xINd5PxQR9Gp",
        "colab_type": "code",
        "outputId": "2d1b762a-bdc8-42ee-d2ef-bc9e5af5fac5",
        "colab": {
          "base_uri": "https://localhost:8080/",
          "height": 34
        }
      },
      "source": [
        "\n",
        "np.array([1, 2, 3, 4], dtype='float32')"
      ],
      "execution_count": 0,
      "outputs": [
        {
          "output_type": "execute_result",
          "data": {
            "text/plain": [
              "array([1., 2., 3., 4.], dtype=float32)"
            ]
          },
          "metadata": {
            "tags": []
          },
          "execution_count": 18
        }
      ]
    },
    {
      "cell_type": "markdown",
      "metadata": {
        "id": "ZSZoxI_sS8Vp",
        "colab_type": "text"
      },
      "source": [
        "A diferencia de las listas, los arreglos de NumPy pueden ser explicitamente multi-dimensionales.\n",
        "\n",
        "\n",
        "A continuación, una forma de inicializar un arreglo multidimensional usando una lista de listas"
      ]
    },
    {
      "cell_type": "code",
      "metadata": {
        "id": "fgm2WhSzSbAA",
        "colab_type": "code",
        "outputId": "02d1db7e-c03a-418b-b149-a1bd6910e357",
        "colab": {
          "base_uri": "https://localhost:8080/",
          "height": 68
        }
      },
      "source": [
        "np.array([range(i, i + 3) for i in [2, 4, 6]])"
      ],
      "execution_count": 0,
      "outputs": [
        {
          "output_type": "execute_result",
          "data": {
            "text/plain": [
              "array([[2, 3, 4],\n",
              "       [4, 5, 6],\n",
              "       [6, 7, 8]])"
            ]
          },
          "metadata": {
            "tags": []
          },
          "execution_count": 19
        }
      ]
    },
    {
      "cell_type": "code",
      "metadata": {
        "id": "FJgUP_RoSe9_",
        "colab_type": "code",
        "outputId": "c2062986-3d27-47b5-a6cc-2d099ae50988",
        "colab": {
          "base_uri": "https://localhost:8080/",
          "height": 34
        }
      },
      "source": [
        "np.array([range(i) for i in [2, 4, 6]])"
      ],
      "execution_count": 0,
      "outputs": [
        {
          "output_type": "execute_result",
          "data": {
            "text/plain": [
              "array([range(0, 2), range(0, 4), range(0, 6)], dtype=object)"
            ]
          },
          "metadata": {
            "tags": []
          },
          "execution_count": 20
        }
      ]
    },
    {
      "cell_type": "code",
      "metadata": {
        "id": "HN_1pKC2UCO9",
        "colab_type": "code",
        "outputId": "689271a9-b4a4-4ff1-c19d-0d11478e1758",
        "colab": {
          "base_uri": "https://localhost:8080/",
          "height": 34
        }
      },
      "source": [
        "np.array([range(i + 3) for i in [2, 4, 6]])"
      ],
      "execution_count": 0,
      "outputs": [
        {
          "output_type": "execute_result",
          "data": {
            "text/plain": [
              "array([range(0, 5), range(0, 7), range(0, 9)], dtype=object)"
            ]
          },
          "metadata": {
            "tags": []
          },
          "execution_count": 21
        }
      ]
    },
    {
      "cell_type": "code",
      "metadata": {
        "id": "LyiC1lyLUNzS",
        "colab_type": "code",
        "outputId": "d3611547-d4da-4185-8fe8-087cd78e2e04",
        "colab": {
          "base_uri": "https://localhost:8080/",
          "height": 68
        }
      },
      "source": [
        "np.array([range(i, i + 4) for i in [2, 4, 6]])"
      ],
      "execution_count": 0,
      "outputs": [
        {
          "output_type": "execute_result",
          "data": {
            "text/plain": [
              "array([[2, 3, 4, 5],\n",
              "       [4, 5, 6, 7],\n",
              "       [6, 7, 8, 9]])"
            ]
          },
          "metadata": {
            "tags": []
          },
          "execution_count": 22
        }
      ]
    },
    {
      "cell_type": "code",
      "metadata": {
        "id": "ahGFTyhJWB4E",
        "colab_type": "code",
        "outputId": "9a41ca25-c744-4694-e043-ae5eee3b1302",
        "colab": {
          "base_uri": "https://localhost:8080/",
          "height": 68
        }
      },
      "source": [
        "np.array([range(i, i+2 ) for i in [2, 4, 6]])"
      ],
      "execution_count": 0,
      "outputs": [
        {
          "output_type": "execute_result",
          "data": {
            "text/plain": [
              "array([[2, 3],\n",
              "       [4, 5],\n",
              "       [6, 7]])"
            ]
          },
          "metadata": {
            "tags": []
          },
          "execution_count": 23
        }
      ]
    },
    {
      "cell_type": "code",
      "metadata": {
        "id": "HOd4kutgWRSt",
        "colab_type": "code",
        "outputId": "e3559b83-ac61-4a15-ac5f-b0ce3ab0318a",
        "colab": {
          "base_uri": "https://localhost:8080/",
          "height": 85
        }
      },
      "source": [
        "np.array([range(i, i+2) for i in [2, 5, 2, 3]])"
      ],
      "execution_count": 0,
      "outputs": [
        {
          "output_type": "execute_result",
          "data": {
            "text/plain": [
              "array([[2, 3],\n",
              "       [5, 6],\n",
              "       [2, 3],\n",
              "       [3, 4]])"
            ]
          },
          "metadata": {
            "tags": []
          },
          "execution_count": 24
        }
      ]
    },
    {
      "cell_type": "markdown",
      "metadata": {
        "id": "2M82ue04dj4w",
        "colab_type": "text"
      },
      "source": [
        "##**Creando Arreglos**"
      ]
    },
    {
      "cell_type": "code",
      "metadata": {
        "id": "Elz3Mvh5Y79H",
        "colab_type": "code",
        "outputId": "c02cef52-556c-4bfe-a094-1c22da1d6962",
        "colab": {
          "base_uri": "https://localhost:8080/",
          "height": 34
        }
      },
      "source": [
        "np.zeros(10,dtype=int)"
      ],
      "execution_count": 0,
      "outputs": [
        {
          "output_type": "execute_result",
          "data": {
            "text/plain": [
              "array([0, 0, 0, 0, 0, 0, 0, 0, 0, 0])"
            ]
          },
          "metadata": {
            "tags": []
          },
          "execution_count": 25
        }
      ]
    },
    {
      "cell_type": "code",
      "metadata": {
        "id": "AHAtF0Baj1vF",
        "colab_type": "code",
        "outputId": "790c7bb9-f6dc-4fc6-ab92-07c02f945db7",
        "colab": {
          "base_uri": "https://localhost:8080/",
          "height": 68
        }
      },
      "source": [
        "np.ones((3,5), dtype=float)"
      ],
      "execution_count": 0,
      "outputs": [
        {
          "output_type": "execute_result",
          "data": {
            "text/plain": [
              "array([[1., 1., 1., 1., 1.],\n",
              "       [1., 1., 1., 1., 1.],\n",
              "       [1., 1., 1., 1., 1.]])"
            ]
          },
          "metadata": {
            "tags": []
          },
          "execution_count": 26
        }
      ]
    },
    {
      "cell_type": "code",
      "metadata": {
        "id": "RP_X_gljkKut",
        "colab_type": "code",
        "outputId": "4fefddf2-c4d4-40c4-b329-581a8a3083cf",
        "colab": {
          "base_uri": "https://localhost:8080/",
          "height": 85
        }
      },
      "source": [
        "np.full((4,5), 3.14)"
      ],
      "execution_count": 0,
      "outputs": [
        {
          "output_type": "execute_result",
          "data": {
            "text/plain": [
              "array([[3.14, 3.14, 3.14, 3.14, 3.14],\n",
              "       [3.14, 3.14, 3.14, 3.14, 3.14],\n",
              "       [3.14, 3.14, 3.14, 3.14, 3.14],\n",
              "       [3.14, 3.14, 3.14, 3.14, 3.14]])"
            ]
          },
          "metadata": {
            "tags": []
          },
          "execution_count": 27
        }
      ]
    },
    {
      "cell_type": "code",
      "metadata": {
        "id": "Z9a8Ex4kk9Kh",
        "colab_type": "code",
        "outputId": "2876cdde-df5e-448c-80f4-4dba8105eaec",
        "colab": {
          "base_uri": "https://localhost:8080/",
          "height": 187
        }
      },
      "source": [
        "np.zeros((10,1), dtype=int)"
      ],
      "execution_count": 0,
      "outputs": [
        {
          "output_type": "execute_result",
          "data": {
            "text/plain": [
              "array([[0],\n",
              "       [0],\n",
              "       [0],\n",
              "       [0],\n",
              "       [0],\n",
              "       [0],\n",
              "       [0],\n",
              "       [0],\n",
              "       [0],\n",
              "       [0]])"
            ]
          },
          "metadata": {
            "tags": []
          },
          "execution_count": 28
        }
      ]
    },
    {
      "cell_type": "code",
      "metadata": {
        "id": "oLIBEboelmRZ",
        "colab_type": "code",
        "outputId": "d7a3962e-ceae-43f4-f8dc-288f566d6df0",
        "colab": {
          "base_uri": "https://localhost:8080/",
          "height": 34
        }
      },
      "source": [
        "np.arange(0, 20, 2)"
      ],
      "execution_count": 0,
      "outputs": [
        {
          "output_type": "execute_result",
          "data": {
            "text/plain": [
              "array([ 0,  2,  4,  6,  8, 10, 12, 14, 16, 18])"
            ]
          },
          "metadata": {
            "tags": []
          },
          "execution_count": 29
        }
      ]
    },
    {
      "cell_type": "code",
      "metadata": {
        "id": "Yf0wKAj6mzlV",
        "colab_type": "code",
        "outputId": "d129fc90-f2b7-495a-e8d2-9876bde65abc",
        "colab": {
          "base_uri": "https://localhost:8080/",
          "height": 34
        }
      },
      "source": [
        "np.arange(5, 20, 2.1, dtype=float)"
      ],
      "execution_count": 0,
      "outputs": [
        {
          "output_type": "execute_result",
          "data": {
            "text/plain": [
              "array([ 5. ,  7.1,  9.2, 11.3, 13.4, 15.5, 17.6, 19.7])"
            ]
          },
          "metadata": {
            "tags": []
          },
          "execution_count": 30
        }
      ]
    },
    {
      "cell_type": "code",
      "metadata": {
        "id": "PA7sQLS5nGLe",
        "colab_type": "code",
        "outputId": "31949903-456b-438e-8dc2-cb483c787b0d",
        "colab": {
          "base_uri": "https://localhost:8080/",
          "height": 34
        }
      },
      "source": [
        "np.linspace(0, 1, 5)"
      ],
      "execution_count": 0,
      "outputs": [
        {
          "output_type": "execute_result",
          "data": {
            "text/plain": [
              "array([0.  , 0.25, 0.5 , 0.75, 1.  ])"
            ]
          },
          "metadata": {
            "tags": []
          },
          "execution_count": 31
        }
      ]
    },
    {
      "cell_type": "code",
      "metadata": {
        "id": "gouiwgN7ntRH",
        "colab_type": "code",
        "outputId": "c96b4f86-c5bd-44f9-ef45-1fda183769d8",
        "colab": {
          "base_uri": "https://localhost:8080/",
          "height": 68
        }
      },
      "source": [
        "np.linspace(50, 1000, num=10)"
      ],
      "execution_count": 0,
      "outputs": [
        {
          "output_type": "execute_result",
          "data": {
            "text/plain": [
              "array([  50.        ,  155.55555556,  261.11111111,  366.66666667,\n",
              "        472.22222222,  577.77777778,  683.33333333,  788.88888889,\n",
              "        894.44444444, 1000.        ])"
            ]
          },
          "metadata": {
            "tags": []
          },
          "execution_count": 32
        }
      ]
    },
    {
      "cell_type": "code",
      "metadata": {
        "id": "eiNK48cQn_qZ",
        "colab_type": "code",
        "outputId": "2c29f478-1ad4-481f-a251-f2107941437f",
        "colab": {
          "base_uri": "https://localhost:8080/",
          "height": 68
        }
      },
      "source": [
        "np.random.random((3, 3))"
      ],
      "execution_count": 0,
      "outputs": [
        {
          "output_type": "execute_result",
          "data": {
            "text/plain": [
              "array([[0.66262715, 0.15358032, 0.057302  ],\n",
              "       [0.28477308, 0.3521879 , 0.55492055],\n",
              "       [0.59303616, 0.09490834, 0.87971085]])"
            ]
          },
          "metadata": {
            "tags": []
          },
          "execution_count": 33
        }
      ]
    },
    {
      "cell_type": "code",
      "metadata": {
        "id": "G6iEJgHhodAH",
        "colab_type": "code",
        "outputId": "19b5bbac-ad51-493c-b2ce-ef170561d217",
        "colab": {
          "base_uri": "https://localhost:8080/",
          "height": 85
        }
      },
      "source": [
        "np.random.random((4, 5))"
      ],
      "execution_count": 0,
      "outputs": [
        {
          "output_type": "execute_result",
          "data": {
            "text/plain": [
              "array([[0.42492989, 0.35417044, 0.81967653, 0.29056389, 0.62967609],\n",
              "       [0.50346737, 0.8391905 , 0.32140524, 0.98787181, 0.40926125],\n",
              "       [0.1009178 , 0.00876016, 0.6295273 , 0.65225641, 0.42359907],\n",
              "       [0.22828401, 0.52510119, 0.37122139, 0.97546477, 0.94177005]])"
            ]
          },
          "metadata": {
            "tags": []
          },
          "execution_count": 34
        }
      ]
    },
    {
      "cell_type": "code",
      "metadata": {
        "id": "dfH_xcswouJT",
        "colab_type": "code",
        "outputId": "1e8bc3e9-a19c-4b35-c91a-da85ddaec29c",
        "colab": {
          "base_uri": "https://localhost:8080/",
          "height": 68
        }
      },
      "source": [
        "# Crea un arreglo de 3x3 con valores aleatorios\n",
        "# distribuidos de manera normal con media 0 y desviacion estandard 1\n",
        "np.random.normal(0, 1, (3, 3))"
      ],
      "execution_count": 0,
      "outputs": [
        {
          "output_type": "execute_result",
          "data": {
            "text/plain": [
              "array([[ 1.47362313,  0.41077572, -0.99837656],\n",
              "       [ 0.20375577, -0.47180483,  0.23902903],\n",
              "       [-0.4296892 ,  0.96477233, -0.98770808]])"
            ]
          },
          "metadata": {
            "tags": []
          },
          "execution_count": 35
        }
      ]
    },
    {
      "cell_type": "code",
      "metadata": {
        "id": "SHl-YN_Ao0_y",
        "colab_type": "code",
        "outputId": "f754cf35-e854-4341-aef4-062132db1f7b",
        "colab": {
          "base_uri": "https://localhost:8080/",
          "height": 102
        }
      },
      "source": [
        "np.random.normal(2, 3, (5, 3))"
      ],
      "execution_count": 0,
      "outputs": [
        {
          "output_type": "execute_result",
          "data": {
            "text/plain": [
              "array([[ 1.69851476, -0.72641586,  4.23668522],\n",
              "       [ 0.42448452,  9.64037526, -1.94488369],\n",
              "       [ 8.77733976,  6.21482081,  0.8885052 ],\n",
              "       [ 0.39468314,  2.48288905,  6.16185754],\n",
              "       [ 5.19855396, -1.66762225,  2.45754543]])"
            ]
          },
          "metadata": {
            "tags": []
          },
          "execution_count": 36
        }
      ]
    },
    {
      "cell_type": "code",
      "metadata": {
        "id": "39EAYqZLpX98",
        "colab_type": "code",
        "outputId": "ee633be2-4fee-4973-822a-fe516b1d8da2",
        "colab": {
          "base_uri": "https://localhost:8080/",
          "height": 68
        }
      },
      "source": [
        "# Crea array de 3x3 de numeros enterros aleatorios tomados del intervalo [0, 10)\n",
        "np.random.randint(0, 10, (3, 3))"
      ],
      "execution_count": 0,
      "outputs": [
        {
          "output_type": "execute_result",
          "data": {
            "text/plain": [
              "array([[7, 2, 2],\n",
              "       [3, 8, 9],\n",
              "       [3, 4, 4]])"
            ]
          },
          "metadata": {
            "tags": []
          },
          "execution_count": 37
        }
      ]
    },
    {
      "cell_type": "code",
      "metadata": {
        "id": "62n3mexCp24Q",
        "colab_type": "code",
        "outputId": "a75babeb-e8e5-41f2-8681-d71650d9310e",
        "colab": {
          "base_uri": "https://localhost:8080/",
          "height": 68
        }
      },
      "source": [
        "np.random.randint(0, 100, (3, 4))"
      ],
      "execution_count": 0,
      "outputs": [
        {
          "output_type": "execute_result",
          "data": {
            "text/plain": [
              "array([[64, 70, 72, 42],\n",
              "       [61, 68, 22, 75],\n",
              "       [92, 87, 19, 64]])"
            ]
          },
          "metadata": {
            "tags": []
          },
          "execution_count": 38
        }
      ]
    },
    {
      "cell_type": "code",
      "metadata": {
        "id": "zU5XoCbxp9ox",
        "colab_type": "code",
        "outputId": "390b2f11-9d65-4d84-e526-e45bc16fb182",
        "colab": {
          "base_uri": "https://localhost:8080/",
          "height": 68
        }
      },
      "source": [
        "# Crea matrix identidad de 3x3 (arreglo cuyas entradas son todas cero excepto las diagonales)\n",
        "np.eye(3)"
      ],
      "execution_count": 0,
      "outputs": [
        {
          "output_type": "execute_result",
          "data": {
            "text/plain": [
              "array([[1., 0., 0.],\n",
              "       [0., 1., 0.],\n",
              "       [0., 0., 1.]])"
            ]
          },
          "metadata": {
            "tags": []
          },
          "execution_count": 39
        }
      ]
    },
    {
      "cell_type": "code",
      "metadata": {
        "id": "CklCBRetqFw3",
        "colab_type": "code",
        "outputId": "8a4d5892-3d6c-4ecd-8e9a-029c3461aa7c",
        "colab": {
          "base_uri": "https://localhost:8080/",
          "height": 187
        }
      },
      "source": [
        "np.eye(10)"
      ],
      "execution_count": 0,
      "outputs": [
        {
          "output_type": "execute_result",
          "data": {
            "text/plain": [
              "array([[1., 0., 0., 0., 0., 0., 0., 0., 0., 0.],\n",
              "       [0., 1., 0., 0., 0., 0., 0., 0., 0., 0.],\n",
              "       [0., 0., 1., 0., 0., 0., 0., 0., 0., 0.],\n",
              "       [0., 0., 0., 1., 0., 0., 0., 0., 0., 0.],\n",
              "       [0., 0., 0., 0., 1., 0., 0., 0., 0., 0.],\n",
              "       [0., 0., 0., 0., 0., 1., 0., 0., 0., 0.],\n",
              "       [0., 0., 0., 0., 0., 0., 1., 0., 0., 0.],\n",
              "       [0., 0., 0., 0., 0., 0., 0., 1., 0., 0.],\n",
              "       [0., 0., 0., 0., 0., 0., 0., 0., 1., 0.],\n",
              "       [0., 0., 0., 0., 0., 0., 0., 0., 0., 1.]])"
            ]
          },
          "metadata": {
            "tags": []
          },
          "execution_count": 40
        }
      ]
    },
    {
      "cell_type": "code",
      "metadata": {
        "id": "QvwT5VqsqJ3R",
        "colab_type": "code",
        "outputId": "3e362343-34dc-4a56-af2d-870076ec07a7",
        "colab": {
          "base_uri": "https://localhost:8080/",
          "height": 68
        }
      },
      "source": [
        "np.eye(3, 5)"
      ],
      "execution_count": 0,
      "outputs": [
        {
          "output_type": "execute_result",
          "data": {
            "text/plain": [
              "array([[1., 0., 0., 0., 0.],\n",
              "       [0., 1., 0., 0., 0.],\n",
              "       [0., 0., 1., 0., 0.]])"
            ]
          },
          "metadata": {
            "tags": []
          },
          "execution_count": 41
        }
      ]
    },
    {
      "cell_type": "code",
      "metadata": {
        "id": "_jSzKLmkqiJl",
        "colab_type": "code",
        "outputId": "b5aeb5f5-9baf-4a1d-cb87-2908692ba75a",
        "colab": {
          "base_uri": "https://localhost:8080/",
          "height": 34
        }
      },
      "source": [
        "# Crea un array de tres enteros sin valores especificos\n",
        "# Los valores se toman de lo que exista en esa localizacion de la memoria\n",
        "np.empty(3)"
      ],
      "execution_count": 0,
      "outputs": [
        {
          "output_type": "execute_result",
          "data": {
            "text/plain": [
              "array([1., 1., 1.])"
            ]
          },
          "metadata": {
            "tags": []
          },
          "execution_count": 42
        }
      ]
    },
    {
      "cell_type": "code",
      "metadata": {
        "id": "L1tZwis8q9TM",
        "colab_type": "code",
        "outputId": "30c7fb7b-15af-4362-81c2-825870f41742",
        "colab": {
          "base_uri": "https://localhost:8080/",
          "height": 34
        }
      },
      "source": [
        "np.empty(2)"
      ],
      "execution_count": 0,
      "outputs": [
        {
          "output_type": "execute_result",
          "data": {
            "text/plain": [
              "array([1.5e-323, 2.0e-323])"
            ]
          },
          "metadata": {
            "tags": []
          },
          "execution_count": 43
        }
      ]
    },
    {
      "cell_type": "markdown",
      "metadata": {
        "id": "dKVnDNz3s3gd",
        "colab_type": "text"
      },
      "source": [
        "##**Basicos de NumPy: arreglos**"
      ]
    },
    {
      "cell_type": "code",
      "metadata": {
        "id": "18eHLrgnrFxg",
        "colab_type": "code",
        "colab": {}
      },
      "source": [
        "np.random.seed(0)  # seed for reproducibility\n",
        "\n",
        "x1 = np.random.randint(10, size=6)  # One-dimensional array\n",
        "x2 = np.random.randint(10, size=(3, 4))  # Two-dimensional array\n",
        "x3 = np.random.randint(10, size=(3, 4, 5))  # Three-dimensional array"
      ],
      "execution_count": 0,
      "outputs": []
    },
    {
      "cell_type": "code",
      "metadata": {
        "id": "ADQf6esmt-xs",
        "colab_type": "code",
        "outputId": "a84c36b1-e3ed-4f1d-98a2-e37974fd5a8e",
        "colab": {
          "base_uri": "https://localhost:8080/",
          "height": 34
        }
      },
      "source": [
        "x1"
      ],
      "execution_count": 0,
      "outputs": [
        {
          "output_type": "execute_result",
          "data": {
            "text/plain": [
              "array([5, 0, 3, 3, 7, 9])"
            ]
          },
          "metadata": {
            "tags": []
          },
          "execution_count": 45
        }
      ]
    },
    {
      "cell_type": "code",
      "metadata": {
        "id": "NhOPCjdRuBOZ",
        "colab_type": "code",
        "outputId": "e778f2d7-e554-4dbc-cfd1-60324b23690f",
        "colab": {
          "base_uri": "https://localhost:8080/",
          "height": 68
        }
      },
      "source": [
        "x2"
      ],
      "execution_count": 0,
      "outputs": [
        {
          "output_type": "execute_result",
          "data": {
            "text/plain": [
              "array([[3, 5, 2, 4],\n",
              "       [7, 6, 8, 8],\n",
              "       [1, 6, 7, 7]])"
            ]
          },
          "metadata": {
            "tags": []
          },
          "execution_count": 46
        }
      ]
    },
    {
      "cell_type": "code",
      "metadata": {
        "id": "SMsEaXnmuCUh",
        "colab_type": "code",
        "outputId": "e6c10867-03e2-4008-9ae6-b941f1e14f25",
        "colab": {
          "base_uri": "https://localhost:8080/",
          "height": 255
        }
      },
      "source": [
        "x3"
      ],
      "execution_count": 0,
      "outputs": [
        {
          "output_type": "execute_result",
          "data": {
            "text/plain": [
              "array([[[8, 1, 5, 9, 8],\n",
              "        [9, 4, 3, 0, 3],\n",
              "        [5, 0, 2, 3, 8],\n",
              "        [1, 3, 3, 3, 7]],\n",
              "\n",
              "       [[0, 1, 9, 9, 0],\n",
              "        [4, 7, 3, 2, 7],\n",
              "        [2, 0, 0, 4, 5],\n",
              "        [5, 6, 8, 4, 1]],\n",
              "\n",
              "       [[4, 9, 8, 1, 1],\n",
              "        [7, 9, 9, 3, 6],\n",
              "        [7, 2, 0, 3, 5],\n",
              "        [9, 4, 4, 6, 4]]])"
            ]
          },
          "metadata": {
            "tags": []
          },
          "execution_count": 47
        }
      ]
    },
    {
      "cell_type": "code",
      "metadata": {
        "id": "gkQkFIOIuDRy",
        "colab_type": "code",
        "outputId": "f87ab735-c09c-4b05-bf86-5abfbeeb409c",
        "colab": {
          "base_uri": "https://localhost:8080/",
          "height": 68
        }
      },
      "source": [
        "print(\"x3 ndim: \", x3.ndim)\n",
        "print(\"x3 shape:\", x3.shape)\n",
        "print(\"x3 size: \", x3.size)"
      ],
      "execution_count": 0,
      "outputs": [
        {
          "output_type": "stream",
          "text": [
            "x3 ndim:  3\n",
            "x3 shape: (3, 4, 5)\n",
            "x3 size:  60\n"
          ],
          "name": "stdout"
        }
      ]
    },
    {
      "cell_type": "code",
      "metadata": {
        "id": "sCnbW4-QuRW7",
        "colab_type": "code",
        "outputId": "49c2e691-ec54-418c-ed01-b4b68ff0d603",
        "colab": {
          "base_uri": "https://localhost:8080/",
          "height": 68
        }
      },
      "source": [
        "print(\"x2 ndim: \", x2.ndim)\n",
        "print(\"x2 shape:\", x2.shape)\n",
        "print(\"x2 size: \", x2.size)"
      ],
      "execution_count": 0,
      "outputs": [
        {
          "output_type": "stream",
          "text": [
            "x2 ndim:  2\n",
            "x2 shape: (3, 4)\n",
            "x2 size:  12\n"
          ],
          "name": "stdout"
        }
      ]
    },
    {
      "cell_type": "code",
      "metadata": {
        "id": "al3TyeBtvAGc",
        "colab_type": "code",
        "outputId": "f69ea8dd-f090-4466-fa04-77002ee146a2",
        "colab": {
          "base_uri": "https://localhost:8080/",
          "height": 34
        }
      },
      "source": [
        "print(\"dtype:\", x3.dtype)"
      ],
      "execution_count": 0,
      "outputs": [
        {
          "output_type": "stream",
          "text": [
            "dtype: int64\n"
          ],
          "name": "stdout"
        }
      ]
    },
    {
      "cell_type": "code",
      "metadata": {
        "id": "H1lbpCqdwc5T",
        "colab_type": "code",
        "outputId": "b24449ec-3981-44f6-f95b-9cd3bcaf7934",
        "colab": {
          "base_uri": "https://localhost:8080/",
          "height": 34
        }
      },
      "source": [
        "print(\"dtype:\",x2.dtype )"
      ],
      "execution_count": 0,
      "outputs": [
        {
          "output_type": "stream",
          "text": [
            "dtype: int64\n"
          ],
          "name": "stdout"
        }
      ]
    },
    {
      "cell_type": "code",
      "metadata": {
        "id": "55-2QG2EwwpT",
        "colab_type": "code",
        "outputId": "a55248a1-f0b8-4c5b-93d8-12c62dc4e516",
        "colab": {
          "base_uri": "https://localhost:8080/",
          "height": 51
        }
      },
      "source": [
        "print(\"itemsize:\", x3.itemsize, \"bytes\")\n",
        "print(\"nbytes:\", x3.nbytes, \"bytes\")"
      ],
      "execution_count": 0,
      "outputs": [
        {
          "output_type": "stream",
          "text": [
            "itemsize: 8 bytes\n",
            "nbytes: 480 bytes\n"
          ],
          "name": "stdout"
        }
      ]
    },
    {
      "cell_type": "markdown",
      "metadata": {
        "id": "0uc8-YkSxN5t",
        "colab_type": "text"
      },
      "source": [
        "##**Indexado de Arrays : Acceso a elementos individuales**"
      ]
    },
    {
      "cell_type": "code",
      "metadata": {
        "id": "RDQCbIB1w8B9",
        "colab_type": "code",
        "outputId": "34f53e78-ffaa-441c-b01b-04b263bc3674",
        "colab": {
          "base_uri": "https://localhost:8080/",
          "height": 68
        }
      },
      "source": [
        "x2"
      ],
      "execution_count": 0,
      "outputs": [
        {
          "output_type": "execute_result",
          "data": {
            "text/plain": [
              "array([[3, 5, 2, 4],\n",
              "       [7, 6, 8, 8],\n",
              "       [1, 6, 7, 7]])"
            ]
          },
          "metadata": {
            "tags": []
          },
          "execution_count": 53
        }
      ]
    },
    {
      "cell_type": "code",
      "metadata": {
        "id": "_xlsrEeaxfib",
        "colab_type": "code",
        "outputId": "49ce43f8-fe79-4b8c-88f7-4b0c5181d793",
        "colab": {
          "base_uri": "https://localhost:8080/",
          "height": 34
        }
      },
      "source": [
        "x2[1, 2]"
      ],
      "execution_count": 0,
      "outputs": [
        {
          "output_type": "execute_result",
          "data": {
            "text/plain": [
              "8"
            ]
          },
          "metadata": {
            "tags": []
          },
          "execution_count": 54
        }
      ]
    },
    {
      "cell_type": "code",
      "metadata": {
        "id": "1VvRpGuvxrLY",
        "colab_type": "code",
        "outputId": "988fb990-4098-463a-a545-926694a69adc",
        "colab": {
          "base_uri": "https://localhost:8080/",
          "height": 34
        }
      },
      "source": [
        "x1"
      ],
      "execution_count": 0,
      "outputs": [
        {
          "output_type": "execute_result",
          "data": {
            "text/plain": [
              "array([5, 0, 3, 3, 7, 9])"
            ]
          },
          "metadata": {
            "tags": []
          },
          "execution_count": 55
        }
      ]
    },
    {
      "cell_type": "code",
      "metadata": {
        "id": "7C8jOrONx5uD",
        "colab_type": "code",
        "outputId": "1555e9e9-8c8c-461b-b793-174be4c06b5c",
        "colab": {
          "base_uri": "https://localhost:8080/",
          "height": 34
        }
      },
      "source": [
        "x1[-2]"
      ],
      "execution_count": 0,
      "outputs": [
        {
          "output_type": "execute_result",
          "data": {
            "text/plain": [
              "7"
            ]
          },
          "metadata": {
            "tags": []
          },
          "execution_count": 56
        }
      ]
    },
    {
      "cell_type": "markdown",
      "metadata": {
        "id": "INNn2uXkzeE5",
        "colab_type": "text"
      },
      "source": [
        "##**Rebanadas de Arrays: Accesa a partes (subarrays)**"
      ]
    },
    {
      "cell_type": "code",
      "metadata": {
        "id": "ShPuEaFux86n",
        "colab_type": "code",
        "outputId": "e68ba1aa-ddb8-4015-e0bc-0d7f4ec3b173",
        "colab": {
          "base_uri": "https://localhost:8080/",
          "height": 34
        }
      },
      "source": [
        "x=np.arange(5, 20, 2)\n",
        "x"
      ],
      "execution_count": 0,
      "outputs": [
        {
          "output_type": "execute_result",
          "data": {
            "text/plain": [
              "array([ 5,  7,  9, 11, 13, 15, 17, 19])"
            ]
          },
          "metadata": {
            "tags": []
          },
          "execution_count": 57
        }
      ]
    },
    {
      "cell_type": "code",
      "metadata": {
        "id": "J_y3INoLzz91",
        "colab_type": "code",
        "outputId": "d3f3d49e-38e2-4d1f-943f-6bfb9884af69",
        "colab": {
          "base_uri": "https://localhost:8080/",
          "height": 34
        }
      },
      "source": [
        "x[:5]  # first five elements"
      ],
      "execution_count": 0,
      "outputs": [
        {
          "output_type": "execute_result",
          "data": {
            "text/plain": [
              "array([ 5,  7,  9, 11, 13])"
            ]
          },
          "metadata": {
            "tags": []
          },
          "execution_count": 58
        }
      ]
    },
    {
      "cell_type": "code",
      "metadata": {
        "id": "qVUwyYcd0Dsy",
        "colab_type": "code",
        "outputId": "e6e90996-7440-4dff-d31e-a6f0181aaff2",
        "colab": {
          "base_uri": "https://localhost:8080/",
          "height": 34
        }
      },
      "source": [
        "x[5:]"
      ],
      "execution_count": 0,
      "outputs": [
        {
          "output_type": "execute_result",
          "data": {
            "text/plain": [
              "array([15, 17, 19])"
            ]
          },
          "metadata": {
            "tags": []
          },
          "execution_count": 59
        }
      ]
    },
    {
      "cell_type": "code",
      "metadata": {
        "id": "Y0qyEsO10EDW",
        "colab_type": "code",
        "outputId": "e4df1a3b-c2ad-4b89-902b-93fe38e56594",
        "colab": {
          "base_uri": "https://localhost:8080/",
          "height": 34
        }
      },
      "source": [
        "x[3:6]"
      ],
      "execution_count": 0,
      "outputs": [
        {
          "output_type": "execute_result",
          "data": {
            "text/plain": [
              "array([11, 13, 15])"
            ]
          },
          "metadata": {
            "tags": []
          },
          "execution_count": 60
        }
      ]
    },
    {
      "cell_type": "code",
      "metadata": {
        "id": "3gfq39pw0EX2",
        "colab_type": "code",
        "outputId": "030f6a6a-4358-4760-d4e2-febf3d88c2a7",
        "colab": {
          "base_uri": "https://localhost:8080/",
          "height": 34
        }
      },
      "source": [
        "x[::2]  # every other element"
      ],
      "execution_count": 0,
      "outputs": [
        {
          "output_type": "execute_result",
          "data": {
            "text/plain": [
              "array([ 5,  9, 13, 17])"
            ]
          },
          "metadata": {
            "tags": []
          },
          "execution_count": 61
        }
      ]
    },
    {
      "cell_type": "code",
      "metadata": {
        "id": "vxt7zjdH0Eqt",
        "colab_type": "code",
        "outputId": "8051090a-4ff9-403b-f4a8-01679380c0c0",
        "colab": {
          "base_uri": "https://localhost:8080/",
          "height": 34
        }
      },
      "source": [
        "x[1::2]  # every other element, starting at index 1"
      ],
      "execution_count": 0,
      "outputs": [
        {
          "output_type": "execute_result",
          "data": {
            "text/plain": [
              "array([ 7, 11, 15, 19])"
            ]
          },
          "metadata": {
            "tags": []
          },
          "execution_count": 62
        }
      ]
    },
    {
      "cell_type": "code",
      "metadata": {
        "id": "rY0zuJH81wVV",
        "colab_type": "code",
        "outputId": "7ae74f35-f8c2-4d8d-ba30-1b2d97529e89",
        "colab": {
          "base_uri": "https://localhost:8080/",
          "height": 34
        }
      },
      "source": [
        "\n",
        "x[::-1]  # all elements, reversed"
      ],
      "execution_count": 0,
      "outputs": [
        {
          "output_type": "execute_result",
          "data": {
            "text/plain": [
              "array([19, 17, 15, 13, 11,  9,  7,  5])"
            ]
          },
          "metadata": {
            "tags": []
          },
          "execution_count": 63
        }
      ]
    },
    {
      "cell_type": "code",
      "metadata": {
        "id": "gvDmjL2M179U",
        "colab_type": "code",
        "outputId": "7c8853bd-4528-4548-fffa-9883ccfc837a",
        "colab": {
          "base_uri": "https://localhost:8080/",
          "height": 34
        }
      },
      "source": [
        "x[5::-2]  # reversed every other from index 5"
      ],
      "execution_count": 0,
      "outputs": [
        {
          "output_type": "execute_result",
          "data": {
            "text/plain": [
              "array([15, 11,  7])"
            ]
          },
          "metadata": {
            "tags": []
          },
          "execution_count": 64
        }
      ]
    },
    {
      "cell_type": "markdown",
      "metadata": {
        "id": "5lPTdKgG2qIx",
        "colab_type": "text"
      },
      "source": [
        "##**Multi-dimensionales**"
      ]
    },
    {
      "cell_type": "code",
      "metadata": {
        "id": "6s-HvaCE2Rgu",
        "colab_type": "code",
        "outputId": "3d056ad6-18d9-42fa-92ee-5f6c5ad403d5",
        "colab": {
          "base_uri": "https://localhost:8080/",
          "height": 68
        }
      },
      "source": [
        "x2"
      ],
      "execution_count": 0,
      "outputs": [
        {
          "output_type": "execute_result",
          "data": {
            "text/plain": [
              "array([[3, 5, 2, 4],\n",
              "       [7, 6, 8, 8],\n",
              "       [1, 6, 7, 7]])"
            ]
          },
          "metadata": {
            "tags": []
          },
          "execution_count": 65
        }
      ]
    },
    {
      "cell_type": "code",
      "metadata": {
        "id": "WQ-v3mLC3GMi",
        "colab_type": "code",
        "outputId": "6a04d8b7-e11b-466b-d465-f1793179d29f",
        "colab": {
          "base_uri": "https://localhost:8080/",
          "height": 51
        }
      },
      "source": [
        "x2[:2, :3]  # two rows, three columns"
      ],
      "execution_count": 0,
      "outputs": [
        {
          "output_type": "execute_result",
          "data": {
            "text/plain": [
              "array([[3, 5, 2],\n",
              "       [7, 6, 8]])"
            ]
          },
          "metadata": {
            "tags": []
          },
          "execution_count": 66
        }
      ]
    },
    {
      "cell_type": "code",
      "metadata": {
        "id": "KVTgFXzU3MN-",
        "colab_type": "code",
        "outputId": "dd5e721e-a478-4887-a6ad-d3d00bd33747",
        "colab": {
          "base_uri": "https://localhost:8080/",
          "height": 68
        }
      },
      "source": [
        "x2[:3, ::2]  # all rows, every other column"
      ],
      "execution_count": 0,
      "outputs": [
        {
          "output_type": "execute_result",
          "data": {
            "text/plain": [
              "array([[3, 2],\n",
              "       [7, 8],\n",
              "       [1, 7]])"
            ]
          },
          "metadata": {
            "tags": []
          },
          "execution_count": 67
        }
      ]
    },
    {
      "cell_type": "code",
      "metadata": {
        "id": "sIyqL2t43qqk",
        "colab_type": "code",
        "outputId": "d0f4102a-fb3d-4c30-b16e-7ab9beb7a350",
        "colab": {
          "base_uri": "https://localhost:8080/",
          "height": 68
        }
      },
      "source": [
        "x2[:3, ::3]"
      ],
      "execution_count": 0,
      "outputs": [
        {
          "output_type": "execute_result",
          "data": {
            "text/plain": [
              "array([[3, 4],\n",
              "       [7, 8],\n",
              "       [1, 7]])"
            ]
          },
          "metadata": {
            "tags": []
          },
          "execution_count": 68
        }
      ]
    },
    {
      "cell_type": "code",
      "metadata": {
        "id": "zgrzREBL32i7",
        "colab_type": "code",
        "outputId": "6407530d-e65d-49c6-98cf-0adc9d2e0fb0",
        "colab": {
          "base_uri": "https://localhost:8080/",
          "height": 51
        }
      },
      "source": [
        "x2[::2, :3]"
      ],
      "execution_count": 0,
      "outputs": [
        {
          "output_type": "execute_result",
          "data": {
            "text/plain": [
              "array([[3, 5, 2],\n",
              "       [1, 6, 7]])"
            ]
          },
          "metadata": {
            "tags": []
          },
          "execution_count": 69
        }
      ]
    },
    {
      "cell_type": "code",
      "metadata": {
        "id": "4KP47hpo4DVw",
        "colab_type": "code",
        "outputId": "982bae54-67cd-4393-f547-2ab69243111e",
        "colab": {
          "base_uri": "https://localhost:8080/",
          "height": 68
        }
      },
      "source": [
        "x2[::-1, ::-1]"
      ],
      "execution_count": 0,
      "outputs": [
        {
          "output_type": "execute_result",
          "data": {
            "text/plain": [
              "array([[7, 7, 6, 1],\n",
              "       [8, 8, 6, 7],\n",
              "       [4, 2, 5, 3]])"
            ]
          },
          "metadata": {
            "tags": []
          },
          "execution_count": 70
        }
      ]
    },
    {
      "cell_type": "markdown",
      "metadata": {
        "id": "hckGu60K5Ggr",
        "colab_type": "text"
      },
      "source": [
        "##**Accesando renglones y columnas del array**"
      ]
    },
    {
      "cell_type": "code",
      "metadata": {
        "id": "J1WD6K-h4l2W",
        "colab_type": "code",
        "outputId": "95565984-7fd3-452e-9c50-328ca1df5333",
        "colab": {
          "base_uri": "https://localhost:8080/",
          "height": 34
        }
      },
      "source": [
        "\n",
        "print(x2[:, 0]) "
      ],
      "execution_count": 0,
      "outputs": [
        {
          "output_type": "stream",
          "text": [
            "[3 7 1]\n"
          ],
          "name": "stdout"
        }
      ]
    },
    {
      "cell_type": "code",
      "metadata": {
        "id": "Y3FKfWwx5Wld",
        "colab_type": "code",
        "outputId": "6ce85b40-961a-41d3-c205-1894e5702df8",
        "colab": {
          "base_uri": "https://localhost:8080/",
          "height": 34
        }
      },
      "source": [
        "print(x2[0])"
      ],
      "execution_count": 0,
      "outputs": [
        {
          "output_type": "stream",
          "text": [
            "[3 5 2 4]\n"
          ],
          "name": "stdout"
        }
      ]
    },
    {
      "cell_type": "markdown",
      "metadata": {
        "id": "C25mF85Tf_CL",
        "colab_type": "text"
      },
      "source": [
        "##**Subarrays son vistas y no copias**"
      ]
    },
    {
      "cell_type": "code",
      "metadata": {
        "id": "TWTW6Nhc5eLn",
        "colab_type": "code",
        "outputId": "3410a12c-9b03-412c-ee4a-426eee840175",
        "colab": {
          "base_uri": "https://localhost:8080/",
          "height": 68
        }
      },
      "source": [
        "x2"
      ],
      "execution_count": 0,
      "outputs": [
        {
          "output_type": "execute_result",
          "data": {
            "text/plain": [
              "array([[3, 5, 2, 4],\n",
              "       [7, 6, 8, 8],\n",
              "       [1, 6, 7, 7]])"
            ]
          },
          "metadata": {
            "tags": []
          },
          "execution_count": 73
        }
      ]
    },
    {
      "cell_type": "code",
      "metadata": {
        "id": "kMMVGvp-gLHT",
        "colab_type": "code",
        "outputId": "1269c8f6-c00c-4d45-9567-178f779ccc0b",
        "colab": {
          "base_uri": "https://localhost:8080/",
          "height": 85
        }
      },
      "source": [
        "x4=np.random.randint(10, size=(4, 3))\n",
        "x4"
      ],
      "execution_count": 0,
      "outputs": [
        {
          "output_type": "execute_result",
          "data": {
            "text/plain": [
              "array([[5, 9, 3],\n",
              "       [0, 5, 0],\n",
              "       [1, 2, 4],\n",
              "       [2, 0, 3]])"
            ]
          },
          "metadata": {
            "tags": []
          },
          "execution_count": 76
        }
      ]
    },
    {
      "cell_type": "code",
      "metadata": {
        "id": "VgD_mR69g6qN",
        "colab_type": "code",
        "outputId": "6646607d-d6d3-48bc-bc25-7c11ae969e7f",
        "colab": {
          "base_uri": "https://localhost:8080/",
          "height": 51
        }
      },
      "source": [
        "x4[:2, :3]"
      ],
      "execution_count": 0,
      "outputs": [
        {
          "output_type": "execute_result",
          "data": {
            "text/plain": [
              "array([[5, 9, 3],\n",
              "       [0, 5, 0]])"
            ]
          },
          "metadata": {
            "tags": []
          },
          "execution_count": 78
        }
      ]
    },
    {
      "cell_type": "code",
      "metadata": {
        "id": "AhnKHi9rg67B",
        "colab_type": "code",
        "outputId": "8d4e0475-79da-4197-8d04-5fd363d42f8c",
        "colab": {
          "base_uri": "https://localhost:8080/",
          "height": 68
        }
      },
      "source": [
        "x4[:3, ::2] "
      ],
      "execution_count": 0,
      "outputs": [
        {
          "output_type": "execute_result",
          "data": {
            "text/plain": [
              "array([[5, 3],\n",
              "       [0, 0],\n",
              "       [1, 4]])"
            ]
          },
          "metadata": {
            "tags": []
          },
          "execution_count": 79
        }
      ]
    },
    {
      "cell_type": "code",
      "metadata": {
        "id": "wRH01u94g7Iq",
        "colab_type": "code",
        "colab": {}
      },
      "source": [
        "x_sub = x2[:2, :2]\n",
        "print(x2_sub)"
      ],
      "execution_count": 0,
      "outputs": []
    },
    {
      "cell_type": "code",
      "metadata": {
        "id": "JP6RvpPGg7Wp",
        "colab_type": "code",
        "colab": {}
      },
      "source": [
        ""
      ],
      "execution_count": 0,
      "outputs": []
    },
    {
      "cell_type": "code",
      "metadata": {
        "id": "EjwmTIS_g7nF",
        "colab_type": "code",
        "colab": {}
      },
      "source": [
        ""
      ],
      "execution_count": 0,
      "outputs": []
    }
  ]
}